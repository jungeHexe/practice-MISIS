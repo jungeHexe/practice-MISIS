{
 "cells": [
  {
   "cell_type": "code",
   "execution_count": 1,
   "id": "518a869b",
   "metadata": {
    "_cell_guid": "b1076dfc-b9ad-4769-8c92-a6c4dae69d19",
    "_uuid": "8f2839f25d086af736a60e9eeb907d3b93b6e0e5",
    "execution": {
     "iopub.execute_input": "2022-07-15T11:52:46.078938Z",
     "iopub.status.busy": "2022-07-15T11:52:46.078189Z",
     "iopub.status.idle": "2022-07-15T11:52:46.093588Z",
     "shell.execute_reply": "2022-07-15T11:52:46.092671Z"
    },
    "papermill": {
     "duration": 0.023141,
     "end_time": "2022-07-15T11:52:46.096967",
     "exception": false,
     "start_time": "2022-07-15T11:52:46.073826",
     "status": "completed"
    },
    "tags": []
   },
   "outputs": [
    {
     "name": "stdout",
     "output_type": "stream",
     "text": [
      "/kaggle/input/titanic/train.csv\n",
      "/kaggle/input/titanic/test.csv\n",
      "/kaggle/input/titanic/gender_submission.csv\n"
     ]
    }
   ],
   "source": [
    "# This Python 3 environment comes with many helpful analytics libraries installed\n",
    "# It is defined by the kaggle/python Docker image: https://github.com/kaggle/docker-python\n",
    "# For example, here's several helpful packages to load\n",
    "\n",
    "import numpy as np # linear algebra\n",
    "import pandas as pd # data processing, CSV file I/O (e.g. pd.read_csv)\n",
    "\n",
    "# Input data files are available in the read-only \"../input/\" directory\n",
    "# For example, running this (by clicking run or pressing Shift+Enter) will list all files under the input directory\n",
    "\n",
    "import os\n",
    "for dirname, _, filenames in os.walk('/kaggle/input'):\n",
    "    for filename in filenames:\n",
    "        print(os.path.join(dirname, filename))\n",
    "\n",
    "# You can write up to 20GB to the current directory (/kaggle/working/) that gets preserved as output when you create a version using \"Save & Run All\" \n",
    "# You can also write temporary files to /kaggle/temp/, but they won't be saved outside of the current session"
   ]
  },
  {
   "cell_type": "code",
   "execution_count": 2,
   "id": "8b568eea",
   "metadata": {
    "execution": {
     "iopub.execute_input": "2022-07-15T11:52:46.103980Z",
     "iopub.status.busy": "2022-07-15T11:52:46.103583Z",
     "iopub.status.idle": "2022-07-15T11:52:47.583567Z",
     "shell.execute_reply": "2022-07-15T11:52:47.582206Z"
    },
    "papermill": {
     "duration": 1.486279,
     "end_time": "2022-07-15T11:52:47.586353",
     "exception": false,
     "start_time": "2022-07-15T11:52:46.100074",
     "status": "completed"
    },
    "tags": []
   },
   "outputs": [
    {
     "name": "stdout",
     "output_type": "stream",
     "text": [
      "             Survived\n",
      "PassengerId          \n",
      "892                 0\n",
      "893                 0\n",
      "894                 0\n",
      "895                 0\n",
      "896                 1\n",
      "...               ...\n",
      "1305                0\n",
      "1306                1\n",
      "1307                0\n",
      "1308                0\n",
      "1309                0\n",
      "\n",
      "[418 rows x 1 columns]\n"
     ]
    }
   ],
   "source": [
    "from sklearn.neighbors import KNeighborsClassifier\n",
    "from sklearn.metrics import accuracy_score\n",
    "\n",
    "data = pd.read_csv(\"./kaggle/train.csv\", index_col='PassengerId') \n",
    "\n",
    "# Подготовка данных\n",
    "features = data[['Age', 'Sex', 'Embarked']].copy()\n",
    "features['Sex'].replace(['female', 'male'], [0,1],inplace=True)\n",
    "features['Age'].fillna(data['Age'].mean(), inplace=True)\n",
    "features['Embarked'].fillna('S', inplace=True)\n",
    "features['Embarked'].replace(['S', 'Q', 'C'], [0,1,2], inplace=True)\n",
    "answers = data[\"Survived\"]\n",
    "\n",
    "# Настройка и обучение модели\n",
    "model = KNeighborsClassifier(n_neighbors=6)\n",
    "model.fit(features, answers)\n",
    "\n",
    "\n",
    "# Предсказания на тестовых данных\n",
    "test_data = pd.read_csv(\"./kaggle/test.csv\", index_col='PassengerId') \n",
    "features = test_data[['Age', 'Sex', 'Embarked']].copy()\n",
    "features['Sex'].replace(['female', 'male'], [0,1],inplace=True)\n",
    "features['Age'].fillna(test_data['Age'].mean(), inplace=True)\n",
    "features['Embarked'].fillna('S', inplace=True)\n",
    "features['Embarked'].replace(['S', 'Q', 'C'], [0,1,2], inplace=True)\n",
    "\n",
    "test_predictions = model.predict(features)\n",
    "\n",
    "new_df = pd.DataFrame({'Survived': test_predictions}, index=test_data.index)\n",
    "new_df.to_csv('submission.csv')\n",
    "print(new_df)"
   ]
  }
 ],
 "metadata": {
  "kernelspec": {
   "display_name": "Python 3",
   "language": "python",
   "name": "python3"
  },
  "language_info": {
   "codemirror_mode": {
    "name": "ipython",
    "version": 3
   },
   "file_extension": ".py",
   "mimetype": "text/x-python",
   "name": "python",
   "nbconvert_exporter": "python",
   "pygments_lexer": "ipython3",
   "version": "3.7.12"
  },
  "papermill": {
   "default_parameters": {},
   "duration": 12.875747,
   "end_time": "2022-07-15T11:52:48.310335",
   "environment_variables": {},
   "exception": null,
   "input_path": "__notebook__.ipynb",
   "output_path": "__notebook__.ipynb",
   "parameters": {},
   "start_time": "2022-07-15T11:52:35.434588",
   "version": "2.3.4"
  }
 },
 "nbformat": 4,
 "nbformat_minor": 5
}
